{
 "cells": [
  {
   "cell_type": "markdown",
   "id": "0151bba4-d866-4f23-8208-8129aff32bb9",
   "metadata": {},
   "source": [
    "Q1. What is Bayes' theorem?"
   ]
  },
  {
   "cell_type": "code",
   "execution_count": null,
   "id": "6f1e8481-5a66-4010-9ca1-4e53fac803be",
   "metadata": {},
   "outputs": [],
   "source": [
    "def bayes_theorem(p_a, p_b_given_a, p_b_given_not_a):\n",
    "    # Calculate the probability of not A (complement of A)\n",
    "    p_not_a = 1 - p_a\n",
    "    \n",
    "    # Calculate the denominator (marginal probability of B)\n",
    "    p_b = (p_a * p_b_given_a) + (p_not_a * p_b_given_not_a)\n",
    "    \n",
    "    # Calculate the posterior probability using Bayes' theorem\n",
    "    p_a_given_b = (p_a * p_b_given_a) / p_b\n",
    "    \n",
    "    return p_a_given_b\n",
    "\n",
    "# Example usage\n",
    "# Assume we have a medical test for a disease (A) and want to calculate the probability of having the disease given a positive test result (B).\n",
    "# p_a: Prior probability of having the disease\n",
    "# p_b_given_a: Probability of a positive test result given having the disease\n",
    "# p_b_given_not_a: Probability of a positive test result given not having the disease\n",
    "\n",
    "p_a = 0.01  # Prior probability of having the disease (example: 1% of the population)\n",
    "p_b_given_a = 0.95  # Probability of a positive test result given having the disease (example: 95% sensitivity)\n",
    "p_b_given_not_a = 0.02  # Probability of a positive test result given not having the disease (example: 2% false positive rate)\n",
    "\n",
    "result = bayes_theorem(p_a, p_b_given_a, p_b_given_not_a)\n",
    "print(f\"The probability of having the disease given a positive test result is: {result:.4f}\")\n"
   ]
  },
  {
   "cell_type": "markdown",
   "id": "89981be3-999f-42e2-bf83-d88b94677574",
   "metadata": {},
   "source": [
    "Q2. What is the formula for Bayes' theorem?"
   ]
  },
  {
   "cell_type": "code",
   "execution_count": null,
   "id": "2b2a366c-9261-4d92-ac90-4537597c0db6",
   "metadata": {},
   "outputs": [],
   "source": [
    "def bayes_theorem(p_a, p_b_given_a, p_b_given_not_a):\n",
    "    # Calculate the probability of not A (complement of A)\n",
    "    p_not_a = 1 - p_a\n",
    "    \n",
    "    # Calculate the denominator (marginal probability of B)\n",
    "    p_b = (p_a * p_b_given_a) + (p_not_a * p_b_given_not_a)\n",
    "    \n",
    "    # Calculate the posterior probability using Bayes' theorem\n",
    "    p_a_given_b = (p_a * p_b_given_a) / p_b\n",
    "    \n",
    "    return p_a_given_b\n",
    "\n",
    "# Example usage\n",
    "# Assume we have a medical test for a disease (A) and want to calculate the probability of having the disease given a positive test result (B).\n",
    "# p_a: Prior probability of having the disease\n",
    "# p_b_given_a: Probability of a positive test result given having the disease\n",
    "# p_b_given_not_a: Probability of a positive test result given not having the disease\n",
    "\n",
    "p_a = 0.01  # Prior probability of having the disease (example: 1% of the population)\n",
    "p_b_given_a = 0.95  # Probability of a positive test result given having the disease (example: 95% sensitivity)\n",
    "p_b_given_not_a = 0.02  # Probability of a positive test result given not having the disease (example: 2% false positive rate)\n",
    "\n",
    "result = bayes_theorem(p_a, p_b_given_a, p_b_given_not_a)\n",
    "print(f\"The probability of having the disease given a positive test result is: {result:.4f}\")\n"
   ]
  },
  {
   "cell_type": "markdown",
   "id": "cce4b52f-5fb2-4483-a983-3c3c3bd1785c",
   "metadata": {},
   "source": [
    "Q3. How is Bayes' theorem used in practice?\n",
    "Ans:-Spam Filtering:\r\n",
    "\r\n",
    "Example: Using Bayes' theorem to classify emails as spam or not spam based on the occurrence of certain words."
   ]
  },
  {
   "cell_type": "code",
   "execution_count": null,
   "id": "f596f24a-e9ad-4d46-866d-2cabacc8ce44",
   "metadata": {},
   "outputs": [],
   "source": [
    "def spam_filter(message, spam_likelihood, not_spam_likelihood):\n",
    "    # Calculate prior probabilities\n",
    "    p_spam = 0.2  # Example: Prior probability of an email being spam\n",
    "    p_not_spam = 1 - p_spam  # Complement of the spam probability\n",
    "\n",
    "    # Calculate likelihoods based on occurrences of words in the message\n",
    "    p_message_given_spam = calculate_likelihood(message, spam_likelihood)\n",
    "    p_message_given_not_spam = calculate_likelihood(message, not_spam_likelihood)\n",
    "\n",
    "    # Apply Bayes' theorem\n",
    "    p_spam_given_message = bayes_theorem(p_spam, p_message_given_spam, p_message_given_not_spam)\n",
    "\n",
    "    return p_spam_given_message\n",
    "\n",
    "# Example usage\n",
    "message = \"Get rich quick!\"\n",
    "spam_likelihood = {\"get\": 0.8, \"rich\": 0.7, \"quick\": 0.9}\n",
    "not_spam_likelihood = {\"get\": 0.1, \"rich\": 0.2, \"quick\": 0.3}\n",
    "\n",
    "result = spam_filter(message, spam_likelihood, not_spam_likelihood)\n",
    "print(f\"The probability of the message being spam is: {result:.4f}\")\n"
   ]
  },
  {
   "cell_type": "markdown",
   "id": "63728725-042b-48ff-9275-e1f244a27a37",
   "metadata": {},
   "source": [
    "Medical Diagnosis:\n",
    "\n",
    "Example: Using Bayes' theorem to update the probability of a patient having a disease based on medical test results."
   ]
  },
  {
   "cell_type": "code",
   "execution_count": null,
   "id": "74be0f1c-1e0b-4d8f-9752-8dfd78604821",
   "metadata": {},
   "outputs": [],
   "source": [
    "def medical_diagnosis(test_result, disease_sensitivity, false_positive_rate):\n",
    "    # Calculate prior probability of having the disease\n",
    "    p_disease = 0.01  # Example: Prior probability of a patient having the disease\n",
    "\n",
    "    # Calculate likelihoods based on the test result\n",
    "    p_test_given_disease = calculate_likelihood(test_result, disease_sensitivity)\n",
    "    p_test_given_no_disease = 1 - false_positive_rate\n",
    "\n",
    "    # Apply Bayes' theorem\n",
    "    p_disease_given_test = bayes_theorem(p_disease, p_test_given_disease, p_test_given_no_disease)\n",
    "\n",
    "    return p_disease_given_test\n",
    "\n",
    "# Example usage\n",
    "test_result = \"Positive\"\n",
    "disease_sensitivity = 0.95  # Example: Sensitivity of the medical test\n",
    "false_positive_rate = 0.02  # Example: False positive rate of the medical test\n",
    "\n",
    "result = medical_diagnosis(test_result, disease_sensitivity, false_positive_rate)\n",
    "print(f\"The probability of the patient having the disease is: {result:.4f}\")\n"
   ]
  },
  {
   "cell_type": "markdown",
   "id": "4e8cae4f-3770-4f72-8e6c-a35905dcd035",
   "metadata": {},
   "source": [
    "Q4. What is the relationship between Bayes' theorem and conditional probability?"
   ]
  },
  {
   "cell_type": "code",
   "execution_count": null,
   "id": "e398ce05-f131-45b3-9f40-b97744418209",
   "metadata": {},
   "outputs": [],
   "source": [
    "def bayes_theorem(p_a, p_b_given_a, p_b_given_not_a):\n",
    "    # Calculate the probability of not A (complement of A)\n",
    "    p_not_a = 1 - p_a\n",
    "    \n",
    "    # Calculate the denominator (marginal probability of B)\n",
    "    p_b = (p_a * p_b_given_a) + (p_not_a * p_b_given_not_a)\n",
    "    \n",
    "    # Calculate the conditional probability using Bayes' theorem\n",
    "    p_a_given_b = (p_a * p_b_given_a) / p_b\n",
    "    \n",
    "    return p_a_given_b\n",
    "\n",
    "# Example usage\n",
    "p_a = 0.3  # Prior probability of event A\n",
    "p_b_given_a = 0.8  # Conditional probability of event B given A\n",
    "p_b_given_not_a = 0.2  # Conditional probability of event B given not A\n",
    "\n",
    "result = bayes_theorem(p_a, p_b_given_a, p_b_given_not_a)\n",
    "print(f\"The conditional probability of A given B is: {result:.4f}\")\n"
   ]
  },
  {
   "cell_type": "markdown",
   "id": "315d881c-34ef-46df-8399-6b393c58fa4a",
   "metadata": {},
   "source": [
    "Q5. How do you choose which type of Naive Bayes classifier to use for any given problem?\n",
    "Ans:-The choice of which type of Naive Bayes classifier to use for a given problem often depends on the nature of the features and assumptions about their distribution. The three main types of Naive Bayes classifiers are Gaussian Naive Bayes, Multinomial Naive Bayes, and Bernoulli Naive Bayes. Here are some general guidelines:\r\n",
    "\r\n",
    "Gaussian Naive Bayes:\r\n",
    "\r\n",
    "Assumes that the continuous features follow a Gaussian (normal) distribution.\r\n",
    "Suitable for problems where the features are real-valued and approximately normally distributed.\r\n",
    "Multinomial Naive Bayes:\r\n",
    "\r\n",
    "Assumes that the features represent counts or frequencies of events.\r\n",
    "Commonly used in text classification problems, where the features are word counts or term frequencies.\r\n",
    "Bernoulli Naive Bayes:\r\n",
    "\r\n",
    "Assumes that the features are binary (e.g., presence or absence of a feature).\r\n",
    "Suitable for problems where the features are binary and the focus is on presence/absence."
   ]
  },
  {
   "cell_type": "markdown",
   "id": "f7d6963d-f013-4c63-8cc0-3536750dbc80",
   "metadata": {},
   "source": [
    "Q6. Assignment:\n",
    "You have a dataset with two features, X1 and X2, and two possible classes, A and B. You want to use Naive \n",
    "Bayes to classify a new instance with features X1 = 3 and X2 = 4. The following table shows the frequency of \n",
    "each feature value for each class:\n",
    "\n",
    "Class\t X1=1 X1=2 \tX1=3 \tX2=1 \tX2=2 \tX2=3\t X2=4\n",
    "\n",
    " A\t 3\t 3\t 4\t 4\t 3\t 3\t 3\n",
    "\n",
    " B\t 2\t 2\t 1\t 2\t 2\t 2\t 3\n",
    "\n",
    "Assuming equal prior probabilities for each class, which class would Naive Bayes predict the new instance \n",
    "to belong to"
   ]
  }
 ],
 "metadata": {
  "kernelspec": {
   "display_name": "Python 3 (ipykernel)",
   "language": "python",
   "name": "python3"
  },
  "language_info": {
   "codemirror_mode": {
    "name": "ipython",
    "version": 3
   },
   "file_extension": ".py",
   "mimetype": "text/x-python",
   "name": "python",
   "nbconvert_exporter": "python",
   "pygments_lexer": "ipython3",
   "version": "3.12.0"
  }
 },
 "nbformat": 4,
 "nbformat_minor": 5
}
